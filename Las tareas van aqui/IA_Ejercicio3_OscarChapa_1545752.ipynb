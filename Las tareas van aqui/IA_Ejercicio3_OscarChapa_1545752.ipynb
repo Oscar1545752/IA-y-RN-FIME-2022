{
  "nbformat": 4,
  "nbformat_minor": 0,
  "metadata": {
    "colab": {
      "name": "IA_Ejercicio3_OscarChapa_1545752.ipynb",
      "provenance": [],
      "collapsed_sections": []
    },
    "kernelspec": {
      "name": "python3",
      "display_name": "Python 3"
    },
    "language_info": {
      "name": "python"
    }
  },
  "cells": [
    {
      "cell_type": "markdown",
      "source": [
        "Actividad # 2: Ejercicios basicos en Python\n",
        "Alumno: Oscar Alejandro Chapa Davila\n",
        "matricula: 1545752\n",
        "Hora clase: N1-N3\n"
      ],
      "metadata": {
        "id": "mxBBIdaCMaOW"
      }
    },
    {
      "cell_type": "code",
      "execution_count": 99,
      "metadata": {
        "colab": {
          "base_uri": "https://localhost:8080/"
        },
        "id": "W03TOY2JEwYU",
        "outputId": "a2e013d6-0992-4725-fb52-66cdbee201be"
      },
      "outputs": [
        {
          "output_type": "stream",
          "name": "stdout",
          "text": [
            "*******\n",
            "*Hola *\n",
            "*Soy *\n",
            "*Oscar *\n",
            "*Chapa *\n",
            "*******\n"
          ]
        }
      ],
      "source": [
        "lista = ['Hola','Soy','Oscar', 'Chapa'] #Declaro la lista\n",
        "print(\"*******\")\n",
        "#Perdon inge por imprimir los * jeje\n",
        "for i in lista:\n",
        "  print(\"*\" + i + \" *\")\n",
        "print(\"*******\")"
      ]
    }
  ]
}