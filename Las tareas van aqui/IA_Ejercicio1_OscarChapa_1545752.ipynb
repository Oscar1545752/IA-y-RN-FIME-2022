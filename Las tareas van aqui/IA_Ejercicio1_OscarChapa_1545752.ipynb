{
  "nbformat": 4,
  "nbformat_minor": 0,
  "metadata": {
    "colab": {
      "name": "IA_Ejercicio1_OscarChapa_1545752.ipynb",
      "provenance": [],
      "collapsed_sections": []
    },
    "kernelspec": {
      "name": "python3",
      "display_name": "Python 3"
    },
    "language_info": {
      "name": "python"
    }
  },
  "cells": [
    {
      "cell_type": "markdown",
      "source": [
        "Actividad # 2: Ejercicios basicos en Python\n",
        "Alumno: Oscar Alejandro Chapa Davila\n",
        "matricula: 1545752\n",
        "Hora clase: N1-N3\n"
      ],
      "metadata": {
        "id": "mxBBIdaCMaOW"
      }
    },
    {
      "cell_type": "code",
      "execution_count": 65,
      "metadata": {
        "colab": {
          "base_uri": "https://localhost:8080/"
        },
        "id": "W03TOY2JEwYU",
        "outputId": "efabb8c9-afe0-47b4-c828-f2e32170ccfb"
      },
      "outputs": [
        {
          "output_type": "stream",
          "name": "stdout",
          "text": [
            "Hola\n",
            "Como te llamas: Oscar Chapa\n",
            "¡Hola Oscar Chapa! buen dia.\n"
          ]
        }
      ],
      "source": [
        "nombre = \"Juan\"\n",
        "nombre1 = \"Ana\"\n",
        "nombre2 = \"Pedro\"\n",
        "saludo = input(\"Hola\\nComo te llamas: \")\n",
        "#utilize el operador or para que cualquier nombre ingresado diferente de los \n",
        "#mencionados arriba los salude con su nombre\n",
        "if (saludo == nombre) or (saludo == nombre1) or (saludo == nombre2) :\n",
        "   print(\"Hola\")\n",
        "else :\n",
        "  print(\"¡Hola \"+ saludo + \"! buen dia.\")\n"
      ]
    }
  ]
}