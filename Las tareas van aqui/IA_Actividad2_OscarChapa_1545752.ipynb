{
  "nbformat": 4,
  "nbformat_minor": 0,
  "metadata": {
    "colab": {
      "name": "IA2_Actividad2_OscarChapa_1545752.ipynb",
      "provenance": []
    },
    "kernelspec": {
      "name": "python3",
      "display_name": "Python 3"
    },
    "language_info": {
      "name": "python"
    }
  },
  "cells": [
    {
      "cell_type": "markdown",
      "source": [
        "Actividad # 2: Ejercicios basicos en Python Alumno: Oscar Alejandro Chapa Davila matricula: 1545752 Hora clase: N1-N3"
      ],
      "metadata": {
        "id": "buira855x3Iw"
      }
    },
    {
      "cell_type": "markdown",
      "source": [
        "Ejercicio 1: Escribe un programa que le pida al usuario por su nombre y que lo salude con su nombre, excepto si se llama “Ana”, “Juan”, y “Pedro”."
      ],
      "metadata": {
        "id": "YK4Q9H9Ux7UH"
      }
    },
    {
      "cell_type": "code",
      "execution_count": 1,
      "metadata": {
        "colab": {
          "base_uri": "https://localhost:8080/"
        },
        "id": "ScOJgoSexjdS",
        "outputId": "7af7137b-1526-4984-e349-8235026aaadc"
      },
      "outputs": [
        {
          "output_type": "stream",
          "name": "stdout",
          "text": [
            "Hola\n",
            "Como te llamas: Oscar Chapa\n",
            "¡Hola Oscar Chapa! buen dia.\n"
          ]
        }
      ],
      "source": [
        "nombre = \"Juan\"\n",
        "nombre1 = \"Ana\"\n",
        "nombre2 = \"Pedro\"\n",
        "saludo = input(\"Hola\\nComo te llamas: \")\n",
        "#utilize el operador or para que cualquier nombre ingresado diferente de los \n",
        "#mencionados arriba los salude con su nombre\n",
        "if (saludo == nombre) or (saludo == nombre1) or (saludo == nombre2) :\n",
        "   print(\"Hola\")\n",
        "else :\n",
        "  print(\"¡Hola \"+ saludo + \"! buen dia.\")"
      ]
    },
    {
      "cell_type": "markdown",
      "source": [
        "Ejercicio 2: Escribe una función que regrese el último elemento de una lista y que revierta el orden de la lista e imprima la lista revertida."
      ],
      "metadata": {
        "id": "2ynRltS3yPcR"
      }
    },
    {
      "cell_type": "code",
      "source": [
        "lista1 = [0,1,2,3,4,5,6]  #se declara la lista\n",
        "\n",
        "print(lista1[-1])  #el -1 para obtener el ultimo numero de la lista\n",
        "print(lista1)\n",
        "\n",
        "#Usando la funcion reversed nos devolvera la lista invertida\n",
        "\n",
        "numeros = list(reversed(lista1))\n",
        "print(numeros)"
      ],
      "metadata": {
        "colab": {
          "base_uri": "https://localhost:8080/"
        },
        "id": "Nyj20pOTyVx8",
        "outputId": "97ac0f51-edb1-416c-cfc5-adb863731171"
      },
      "execution_count": 2,
      "outputs": [
        {
          "output_type": "stream",
          "name": "stdout",
          "text": [
            "6\n",
            "[0, 1, 2, 3, 4, 5, 6]\n",
            "[6, 5, 4, 3, 2, 1, 0]\n"
          ]
        }
      ]
    },
    {
      "cell_type": "markdown",
      "source": [
        "Ejercicio 3: Escribe una función que toma una lista de strings y los imprima línea por línea en un marco rectangular. Por ejemplo, la lista [“Hola”, “a”, “todos”, “esto”, “es”, “un”, “marco”] se imprime."
      ],
      "metadata": {
        "id": "C_cb8Ox4ye1X"
      }
    },
    {
      "cell_type": "code",
      "source": [
        "lista = ['Hola','Soy','Oscar', 'Chapa'] #Declaro la lista\n",
        "print(\"*******\")\n",
        "#Perdon inge por imprimir los * jeje\n",
        "for i in lista:\n",
        "  print(\"*\" + i + \" *\")\n",
        "print(\"*******\")"
      ],
      "metadata": {
        "colab": {
          "base_uri": "https://localhost:8080/"
        },
        "id": "CWed4bs3ymNv",
        "outputId": "cc5c5d56-1822-40e6-8013-d8e4a958b25f"
      },
      "execution_count": 3,
      "outputs": [
        {
          "output_type": "stream",
          "name": "stdout",
          "text": [
            "*******\n",
            "*Hola *\n",
            "*Soy *\n",
            "*Oscar *\n",
            "*Chapa *\n",
            "*******\n"
          ]
        }
      ]
    }
  ]
}