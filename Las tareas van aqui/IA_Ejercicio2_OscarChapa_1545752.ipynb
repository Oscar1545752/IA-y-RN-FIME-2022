{
  "nbformat": 4,
  "nbformat_minor": 0,
  "metadata": {
    "colab": {
      "name": "IA_Ejercicio2_OscarChapa_1545752.ipynb",
      "provenance": [],
      "collapsed_sections": []
    },
    "kernelspec": {
      "name": "python3",
      "display_name": "Python 3"
    },
    "language_info": {
      "name": "python"
    }
  },
  "cells": [
    {
      "cell_type": "markdown",
      "source": [
        "Actividad # 2: Ejercicios basicos en Python\n",
        "Alumno: Oscar Alejandro Chapa Davila\n",
        "matricula: 1545752\n",
        "Hora clase: N1-N3\n"
      ],
      "metadata": {
        "id": "mxBBIdaCMaOW"
      }
    },
    {
      "cell_type": "code",
      "execution_count": 87,
      "metadata": {
        "colab": {
          "base_uri": "https://localhost:8080/"
        },
        "id": "W03TOY2JEwYU",
        "outputId": "90fccf63-ec4d-4fe0-942d-e6ed10c6fc5d"
      },
      "outputs": [
        {
          "output_type": "stream",
          "name": "stdout",
          "text": [
            "6\n",
            "[0, 1, 2, 3, 4, 5, 6]\n",
            "[6, 5, 4, 3, 2, 1, 0]\n"
          ]
        }
      ],
      "source": [
        "lista1 = [0,1,2,3,4,5,6]  #se declara la lista\n",
        "\n",
        "print(lista1[-1])  #el -1 para obtener el ultimo numero de la lista\n",
        "print(lista1)\n",
        "\n",
        "#Usando la funcion reversed nos devolvera la lista invertida\n",
        "\n",
        "numeros = list(reversed(lista1))\n",
        "print(numeros) \n",
        "\n"
      ]
    }
  ]
}